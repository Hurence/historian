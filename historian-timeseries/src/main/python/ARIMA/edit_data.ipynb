{
 "cells": [
  {
   "cell_type": "code",
   "execution_count": 1,
   "id": "3cffb565-3748-4298-b31d-b4c4a112b0dd",
   "metadata": {},
   "outputs": [],
   "source": [
    "import pandas as pd"
   ]
  },
  {
   "cell_type": "code",
   "execution_count": 2,
   "id": "fa4fb3bf-f98e-4176-b419-f845db7df17f",
   "metadata": {},
   "outputs": [],
   "source": [
    "dataset = pd.read_csv('ARIMA_bis.csv').to_dict()"
   ]
  },
  {
   "cell_type": "code",
   "execution_count": 3,
   "id": "694beed0-2a84-4557-8c8d-d47b742dd21f",
   "metadata": {},
   "outputs": [],
   "source": [
    "datadic = {'metric_name':{}, 'metric_id':{}, 'mean_squared_error':{}, 'p_Value':{}, 'training_time':{}, 'inference_time':{}, 'order_time':{}}\n",
    "keys = list(dataset.keys())\n",
    "i = 0\n",
    "for key in keys[1:]:\n",
    "    datadic['metric_name'][i] = dataset[key][0]\n",
    "    datadic['metric_id'][i] = key\n",
    "    datadic['mean_squared_error'][i] = dataset[key][2]\n",
    "    datadic['training_time'][i] = dataset[key][6]\n",
    "    datadic['inference_time'][i] = dataset[key][7]\n",
    "    datadic['order_time'][i] = dataset[key][8]\n",
    "    datadic['p_Value'][i] = dataset[key][5]\n",
    "    i+=1"
   ]
  },
  {
   "cell_type": "code",
   "execution_count": 4,
   "id": "1a9ff6fa-19ad-497a-bd71-3e31055dcd74",
   "metadata": {},
   "outputs": [],
   "source": [
    "pd.DataFrame(datadic).to_csv('ARIMA_id2.csv', encoding='utf-8')"
   ]
  },
  {
   "cell_type": "code",
   "execution_count": null,
   "id": "e1bf7c83-7372-41ea-beac-5c294d981b18",
   "metadata": {},
   "outputs": [],
   "source": []
  }
 ],
 "metadata": {
  "kernelspec": {
   "display_name": "Python 3",
   "language": "python",
   "name": "python3"
  },
  "language_info": {
   "codemirror_mode": {
    "name": "ipython",
    "version": 3
   },
   "file_extension": ".py",
   "mimetype": "text/x-python",
   "name": "python",
   "nbconvert_exporter": "python",
   "pygments_lexer": "ipython3",
   "version": "3.9.1"
  }
 },
 "nbformat": 4,
 "nbformat_minor": 5
}
