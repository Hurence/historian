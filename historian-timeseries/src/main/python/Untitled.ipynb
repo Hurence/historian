{
 "cells": [
  {
   "cell_type": "code",
   "execution_count": 1,
   "id": "9e494f2d-e89a-49b0-a611-ed13b850a0f1",
   "metadata": {},
   "outputs": [
    {
     "data": {
      "text/html": [
       "<div>\n",
       "<style scoped>\n",
       "    .dataframe tbody tr th:only-of-type {\n",
       "        vertical-align: middle;\n",
       "    }\n",
       "\n",
       "    .dataframe tbody tr th {\n",
       "        vertical-align: top;\n",
       "    }\n",
       "\n",
       "    .dataframe thead th {\n",
       "        text-align: right;\n",
       "    }\n",
       "</style>\n",
       "<table border=\"1\" class=\"dataframe\">\n",
       "  <thead>\n",
       "    <tr style=\"text-align: right;\">\n",
       "      <th></th>\n",
       "      <th>metric_id</th>\n",
       "      <th>timestamp</th>\n",
       "      <th>value</th>\n",
       "      <th>metric_name</th>\n",
       "    </tr>\n",
       "  </thead>\n",
       "  <tbody>\n",
       "    <tr>\n",
       "      <th>244481</th>\n",
       "      <td>71279451-d26a-473e-b3de-5740e641bb33</td>\n",
       "      <td>1574640274</td>\n",
       "      <td>51.625</td>\n",
       "      <td>cpu_prct_used</td>\n",
       "    </tr>\n",
       "    <tr>\n",
       "      <th>244480</th>\n",
       "      <td>71279451-d26a-473e-b3de-5740e641bb33</td>\n",
       "      <td>1574640574</td>\n",
       "      <td>51.000</td>\n",
       "      <td>cpu_prct_used</td>\n",
       "    </tr>\n",
       "    <tr>\n",
       "      <th>244479</th>\n",
       "      <td>71279451-d26a-473e-b3de-5740e641bb33</td>\n",
       "      <td>1574640874</td>\n",
       "      <td>49.750</td>\n",
       "      <td>cpu_prct_used</td>\n",
       "    </tr>\n",
       "    <tr>\n",
       "      <th>244478</th>\n",
       "      <td>71279451-d26a-473e-b3de-5740e641bb33</td>\n",
       "      <td>1574641174</td>\n",
       "      <td>51.625</td>\n",
       "      <td>cpu_prct_used</td>\n",
       "    </tr>\n",
       "    <tr>\n",
       "      <th>244477</th>\n",
       "      <td>71279451-d26a-473e-b3de-5740e641bb33</td>\n",
       "      <td>1574641474</td>\n",
       "      <td>52.750</td>\n",
       "      <td>cpu_prct_used</td>\n",
       "    </tr>\n",
       "  </tbody>\n",
       "</table>\n",
       "</div>"
      ],
      "text/plain": [
       "                                   metric_id   timestamp   value  \\\n",
       "244481  71279451-d26a-473e-b3de-5740e641bb33  1574640274  51.625   \n",
       "244480  71279451-d26a-473e-b3de-5740e641bb33  1574640574  51.000   \n",
       "244479  71279451-d26a-473e-b3de-5740e641bb33  1574640874  49.750   \n",
       "244478  71279451-d26a-473e-b3de-5740e641bb33  1574641174  51.625   \n",
       "244477  71279451-d26a-473e-b3de-5740e641bb33  1574641474  52.750   \n",
       "\n",
       "          metric_name  \n",
       "244481  cpu_prct_used  \n",
       "244480  cpu_prct_used  \n",
       "244479  cpu_prct_used  \n",
       "244478  cpu_prct_used  \n",
       "244477  cpu_prct_used  "
      ]
     },
     "execution_count": 1,
     "metadata": {},
     "output_type": "execute_result"
    }
   ],
   "source": [
    "import pandas as pd\n",
    "dataframe = pd.read_csv('data/it-data-4metrics.csv', sep=',')\n",
    "indexNames = dataframe[ dataframe['metric_id'] == dataframe.iloc[243333,0] ].index\n",
    "dataframe = dataframe.iloc[indexNames].sort_values(by='timestamp', ascending=True).loc[:,['metric_id','timestamp','value','metric_name']]\n",
    "dataframe.head()"
   ]
  },
  {
   "cell_type": "code",
   "execution_count": 2,
   "id": "00c28329-973e-453a-b175-a2dd4edff6af",
   "metadata": {},
   "outputs": [],
   "source": [
    "dataframe.to_csv('test_data2.csv', encoding='utf-8', index=False)"
   ]
  }
 ],
 "metadata": {
  "kernelspec": {
   "display_name": "Python 3",
   "language": "python",
   "name": "python3"
  },
  "language_info": {
   "codemirror_mode": {
    "name": "ipython",
    "version": 3
   },
   "file_extension": ".py",
   "mimetype": "text/x-python",
   "name": "python",
   "nbconvert_exporter": "python",
   "pygments_lexer": "ipython3",
   "version": "3.9.1"
  }
 },
 "nbformat": 4,
 "nbformat_minor": 5
}
