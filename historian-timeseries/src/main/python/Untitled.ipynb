{
 "cells": [
  {
   "cell_type": "code",
   "execution_count": 1,
   "id": "9e494f2d-e89a-49b0-a611-ed13b850a0f1",
   "metadata": {},
   "outputs": [
    {
     "data": {
      "text/html": [
       "<div>\n",
       "<style scoped>\n",
       "    .dataframe tbody tr th:only-of-type {\n",
       "        vertical-align: middle;\n",
       "    }\n",
       "\n",
       "    .dataframe tbody tr th {\n",
       "        vertical-align: top;\n",
       "    }\n",
       "\n",
       "    .dataframe thead th {\n",
       "        text-align: right;\n",
       "    }\n",
       "</style>\n",
       "<table border=\"1\" class=\"dataframe\">\n",
       "  <thead>\n",
       "    <tr style=\"text-align: right;\">\n",
       "      <th></th>\n",
       "      <th>metric_id</th>\n",
       "      <th>timestamp</th>\n",
       "      <th>value</th>\n",
       "      <th>metric_name</th>\n",
       "    </tr>\n",
       "  </thead>\n",
       "  <tbody>\n",
       "    <tr>\n",
       "      <th>1699</th>\n",
       "      <td>091c334c-a90a-4d8f-ba75-2c936220cd64</td>\n",
       "      <td>1574640018</td>\n",
       "      <td>3.750</td>\n",
       "      <td>cpu_prct_used</td>\n",
       "    </tr>\n",
       "    <tr>\n",
       "      <th>1698</th>\n",
       "      <td>091c334c-a90a-4d8f-ba75-2c936220cd64</td>\n",
       "      <td>1574640318</td>\n",
       "      <td>14.625</td>\n",
       "      <td>cpu_prct_used</td>\n",
       "    </tr>\n",
       "    <tr>\n",
       "      <th>1697</th>\n",
       "      <td>091c334c-a90a-4d8f-ba75-2c936220cd64</td>\n",
       "      <td>1574640618</td>\n",
       "      <td>15.125</td>\n",
       "      <td>cpu_prct_used</td>\n",
       "    </tr>\n",
       "    <tr>\n",
       "      <th>1696</th>\n",
       "      <td>091c334c-a90a-4d8f-ba75-2c936220cd64</td>\n",
       "      <td>1574640918</td>\n",
       "      <td>17.125</td>\n",
       "      <td>cpu_prct_used</td>\n",
       "    </tr>\n",
       "    <tr>\n",
       "      <th>1695</th>\n",
       "      <td>091c334c-a90a-4d8f-ba75-2c936220cd64</td>\n",
       "      <td>1574641218</td>\n",
       "      <td>16.250</td>\n",
       "      <td>cpu_prct_used</td>\n",
       "    </tr>\n",
       "  </tbody>\n",
       "</table>\n",
       "</div>"
      ],
      "text/plain": [
       "                                 metric_id   timestamp   value    metric_name\n",
       "1699  091c334c-a90a-4d8f-ba75-2c936220cd64  1574640018   3.750  cpu_prct_used\n",
       "1698  091c334c-a90a-4d8f-ba75-2c936220cd64  1574640318  14.625  cpu_prct_used\n",
       "1697  091c334c-a90a-4d8f-ba75-2c936220cd64  1574640618  15.125  cpu_prct_used\n",
       "1696  091c334c-a90a-4d8f-ba75-2c936220cd64  1574640918  17.125  cpu_prct_used\n",
       "1695  091c334c-a90a-4d8f-ba75-2c936220cd64  1574641218  16.250  cpu_prct_used"
      ]
     },
     "execution_count": 1,
     "metadata": {},
     "output_type": "execute_result"
    }
   ],
   "source": [
    "import pandas as pd\n",
    "dataframe = pd.read_csv('data/it-data-4metrics.csv', sep=',')\n",
    "indexNames = dataframe[ dataframe['metric_id'] == dataframe.iloc[0,0] ].index\n",
    "dataframe = dataframe.iloc[indexNames].sort_values(by='timestamp', ascending=True).loc[:,['metric_id','timestamp','value','metric_name']]\n",
    "dataframe.head()"
   ]
  },
  {
   "cell_type": "code",
   "execution_count": 2,
   "id": "00c28329-973e-453a-b175-a2dd4edff6af",
   "metadata": {},
   "outputs": [],
   "source": [
    "dataframe.to_csv('test_data.csv', encoding='utf-8', index=False)"
   ]
  }
 ],
 "metadata": {
  "kernelspec": {
   "display_name": "Python 3",
   "language": "python",
   "name": "python3"
  },
  "language_info": {
   "codemirror_mode": {
    "name": "ipython",
    "version": 3
   },
   "file_extension": ".py",
   "mimetype": "text/x-python",
   "name": "python",
   "nbconvert_exporter": "python",
   "pygments_lexer": "ipython3",
   "version": "3.9.1"
  }
 },
 "nbformat": 4,
 "nbformat_minor": 5
}
