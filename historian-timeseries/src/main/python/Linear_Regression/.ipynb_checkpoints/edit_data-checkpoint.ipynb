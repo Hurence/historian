{
 "cells": [
  {
   "cell_type": "code",
   "execution_count": 1,
   "id": "22f80abd-f18d-4b4c-9b5d-b3a4992ce805",
   "metadata": {},
   "outputs": [],
   "source": [
    "import pandas as pd"
   ]
  },
  {
   "cell_type": "code",
   "execution_count": 2,
   "id": "7de7a315-727b-4823-92e9-b3c9a16c8a27",
   "metadata": {},
   "outputs": [],
   "source": [
    "dataset = pd.read_csv('LR.csv') #.to_dict()"
   ]
  },
  {
   "cell_type": "code",
   "execution_count": 3,
   "id": "7631318a-1ea6-4b2c-853c-222373f0c329",
   "metadata": {},
   "outputs": [],
   "source": [
    "datadic = {'metric_name':{}, 'metric_id':{}, 'coeff_of_determination':{}, 'training_time':{}, 'inference_time':{}, 'train_data':{}, 'valid_data':{}}\n",
    "keys = list(dataset.keys())\n",
    "i = 0\n",
    "for key in keys[1:]:\n",
    "    datadic['metric_name'][i] = dataset[key][0]\n",
    "    datadic['metric_id'][i] = key\n",
    "    datadic['coeff_of_determination'][i] = dataset[key][1]\n",
    "    datadic['training_time'][i] = dataset[key][4]\n",
    "    datadic['inference_time'][i] = dataset[key][5]\n",
    "    datadic['train_data'][i] = dataset[key][2]\n",
    "    datadic['valid_data'][i] = dataset[key][3]\n",
    "    i+=1"
   ]
  },
  {
   "cell_type": "code",
   "execution_count": 4,
   "id": "fb5588bd-ba72-4960-92cf-f6b220192cab",
   "metadata": {},
   "outputs": [],
   "source": [
    "pd.DataFrame(datadic).to_csv('LR_bis.csv', encoding='utf-8')"
   ]
  }
 ],
 "metadata": {
  "kernelspec": {
   "display_name": "Python 3",
   "language": "python",
   "name": "python3"
  },
  "language_info": {
   "codemirror_mode": {
    "name": "ipython",
    "version": 3
   },
   "file_extension": ".py",
   "mimetype": "text/x-python",
   "name": "python",
   "nbconvert_exporter": "python",
   "pygments_lexer": "ipython3",
   "version": "3.9.1"
  }
 },
 "nbformat": 4,
 "nbformat_minor": 5
}
