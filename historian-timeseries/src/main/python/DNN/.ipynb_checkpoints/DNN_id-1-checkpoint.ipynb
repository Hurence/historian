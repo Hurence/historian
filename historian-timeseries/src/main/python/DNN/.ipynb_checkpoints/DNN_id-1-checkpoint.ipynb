{
 "cells": [
  {
   "cell_type": "code",
   "execution_count": null,
   "id": "e64e95f8-2fc7-421b-a8a2-c35c55521394",
   "metadata": {},
   "outputs": [],
   "source": [
    "import numpy as np\n",
    "import time\n",
    "import matplotlib.pyplot as plt\n",
    "from pandas import read_csv\n",
    "import math\n",
    "import seaborn as sns\n",
    "import pandas as pd\n",
    "from keras.models import Sequential\n",
    "from keras.layers import Dense\n",
    "from sklearn.metrics import r2_score, mean_squared_error\n",
    "from sklearn.preprocessing import MinMaxScaler\n",
    "import warnings\n",
    "warnings.filterwarnings('ignore')\n",
    "\n",
    "# convert an array of values into a dataset matrix\n",
    "def create_dataset(dataset, look_back=1):\n",
    "    dataX, dataY = [], []\n",
    "    for i in range(len(dataset)-look_back-1):\n",
    "        a = dataset[i:(i+look_back), 0]\n",
    "        dataX.append(a)\n",
    "        dataY.append(dataset[i + look_back, 0])\n",
    "    return np.array(dataX), np.array(dataY)"
   ]
  },
  {
   "cell_type": "code",
   "execution_count": null,
   "id": "dd8e4aab-76b3-4e50-9137-d731a768254f",
   "metadata": {},
   "outputs": [],
   "source": [
    "dataframe = pd.read_csv('../data/metric_date.csv', sep=',')\n",
    "dataframe = dataframe.iloc[:,0:4]"
   ]
  },
  {
   "cell_type": "code",
   "execution_count": null,
   "id": "c7d24bf1-bdd1-4c37-969f-c5c36cd2655c",
   "metadata": {},
   "outputs": [],
   "source": [
    "# Creation of the dictionnary of all the metric_name in association with their metric_id\n",
    "dic_name = {}\n",
    "dic_id = {}\n",
    "for indx in dataframe.index:\n",
    "    if dataframe['metric_name'][indx] not in dic_name.keys():\n",
    "        dic_name[dataframe['metric_name'][indx]] = []\n",
    "    if dataframe['metric_id'][indx] not in dic_name[dataframe['metric_name'][indx]]:\n",
    "        dic_name[dataframe['metric_name'][indx]].append(dataframe['metric_id'][indx])\n",
    "        dic_id[dataframe['metric_id'][indx]] = [dataframe['metric_name'][indx]]\n",
    "keys_name = list(dic_name.keys())\n",
    "keys_id = list(dic_id.keys())"
   ]
  },
  {
   "cell_type": "code",
   "execution_count": null,
   "id": "db9423fc-4fe0-48e5-b406-c46f07f7ea05",
   "metadata": {},
   "outputs": [],
   "source": [
    "sample = len(keys_id)\n",
    "look_back = 10\n",
    "supr = []\n",
    "for i in range(sample):\n",
    "    indx = keys_id[i]\n",
    "    indexNames = dataframe[ dataframe['metric_id'] == indx ].index\n",
    "    data = dataframe.iloc[indexNames].sort_values(by='timestamp', ascending=True).loc[:,'value']\n",
    "    dataset = data.values\n",
    "    dataset = dataset.astype('float32')\n",
    "    dic_id[indx].append(dataset)\n",
    "    dataset = dataset.reshape(-1, 1)\n",
    "    \n",
    "    if len(dataset) > look_back*4:    \n",
    "        # split into train and test sets\n",
    "        train_size = int(len(dataset) * 0.67)\n",
    "        train, test = dataset[0:train_size,:], dataset[train_size:len(dataset),:]\n",
    "\n",
    "        # reshape into X=t and Y=t+1\n",
    "        x_train, y_train = create_dataset(train, look_back)\n",
    "        x_valid, y_valid = create_dataset(test, look_back)\n",
    "\n",
    "        model=Sequential()\n",
    "        model.add(Dense(units=16, input_dim=look_back, activation='relu'))\n",
    "        model.add(Dense(16, activation='relu'))\n",
    "        model.add(Dense(1))\n",
    "        model.compile(loss='mean_squared_error',  optimizer='adam',metrics = ['mse', 'mae'])\n",
    "\n",
    "        start_fit = time.time()\n",
    "        model.fit(x_train,y_train, epochs=100, batch_size=30, verbose=0, validation_data=(x_valid,y_valid), shuffle=False)\n",
    "        end_fit = time.time()\n",
    "\n",
    "        # make predictions\n",
    "        y_pred_train = model.predict(x_train)\n",
    "        start_pred = time.time()\n",
    "        y_pred_valid = model.predict(x_valid)\n",
    "        end_pred = time.time()\n",
    "\n",
    "        # calculate root mean squared error\n",
    "        testScore = math.sqrt(mean_squared_error(y_valid, y_pred_valid[:,0]))\n",
    "\n",
    "        dic_id[indx].append(testScore)\n",
    "        dic_id[indx].append([x_train, y_train, y_pred_train])\n",
    "        dic_id[indx].append([x_valid, y_valid, y_pred_valid])\n",
    "        dic_id[indx].append(end_fit - start_fit)\n",
    "        dic_id[indx].append(end_pred - start_pred)\n",
    "    else:\n",
    "        supr.append(indx)\n",
    "        dic_name[dic_id[indx][0]].remove(indx)\n",
    "    if (i+1) % 25 == 0:\n",
    "        print(\"%.2f\" % ((100/sample)*(i+1)),\"% completed...\")\n",
    "for i in supr:\n",
    "    dic_id.pop(i)"
   ]
  },
  {
   "cell_type": "code",
   "execution_count": null,
   "id": "e3b50449-6e55-40f0-9dfd-46f627068bfc",
   "metadata": {},
   "outputs": [],
   "source": [
    "if sample == len(keys_id):\n",
    "    pd.DataFrame(dic_id).to_csv('DNN_bis.csv', encoding='utf-8')"
   ]
  },
  {
   "cell_type": "code",
   "execution_count": null,
   "id": "037a0e97-2ace-4ea9-b3be-e1296f4942e7",
   "metadata": {},
   "outputs": [],
   "source": [
    "keys_id = list(dic_id.keys())\n",
    "sample = len(keys_id)\n",
    "for i in range(sample):\n",
    "    indx = keys_id[i]\n",
    "    fig, ax = plt.subplots()\n",
    "    # shift train predictions for plotting\n",
    "    trainPlot = np.empty_like(dic_id[indx][1].reshape(-1,1))\n",
    "    trainPlot[:, :] = np.nan\n",
    "    trainPlot[look_back:len(dic_id[indx][3][2])+look_back, :] = dic_id[indx][3][2]\n",
    "    # shift test predictions for plotting\n",
    "    validPlot = np.empty_like(dic_id[indx][1].reshape(-1,1))\n",
    "    validPlot[:, :] = np.nan\n",
    "    validPlot[len(dic_id[indx][3][2])+(look_back*2)+1:len(dic_id[indx][1])-1, :] = dic_id[indx][4][2]\n",
    "    # plot baseline and predictions\n",
    "    ax.set_xlabel(str(i))\n",
    "    ax.plot(dic_id[indx][1].reshape(-1,1))\n",
    "    ax.plot(trainPlot)\n",
    "    ax.plot(validPlot)\n",
    "plt.show()"
   ]
  },
  {
   "cell_type": "code",
   "execution_count": null,
   "id": "99687d62-2d5e-47eb-aa10-c30a2fe1c7e8",
   "metadata": {},
   "outputs": [],
   "source": []
  }
 ],
 "metadata": {
  "kernelspec": {
   "display_name": "Python 3",
   "language": "python",
   "name": "python3"
  },
  "language_info": {
   "codemirror_mode": {
    "name": "ipython",
    "version": 3
   },
   "file_extension": ".py",
   "mimetype": "text/x-python",
   "name": "python",
   "nbconvert_exporter": "python",
   "pygments_lexer": "ipython3",
   "version": "3.9.1"
  }
 },
 "nbformat": 4,
 "nbformat_minor": 5
}
