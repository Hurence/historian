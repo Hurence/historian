{
 "cells": [
  {
   "cell_type": "markdown",
   "id": "4045aa3b-61ab-41e8-945c-e891e18dcc2c",
   "metadata": {},
   "source": [
    "# Linear Regression\n",
    "\n",
    "We will try to implement the linear regression method in one day, it will help us to juge the simplicity to implement this and we'll compare it with the other method and with the results obtained."
   ]
  },
  {
   "cell_type": "code",
   "execution_count": 1,
   "id": "b204c410-bef5-4951-a115-17d53b75df84",
   "metadata": {},
   "outputs": [],
   "source": [
    "import matplotlib.pyplot as plt\n",
    "import numpy as np\n",
    "from pandas import read_csv\n",
    "from sklearn.linear_model as sk\n",
    "from sklearn.metrics import mean_squared_error, r2_score"
   ]
  },
  {
   "cell_type": "code",
   "execution_count": 2,
   "id": "54aa983b-fc2e-4bd8-86d7-c43e1f41297b",
   "metadata": {},
   "outputs": [
    {
     "name": "stdout",
     "output_type": "stream",
     "text": [
      "Coefficients: \n",
      " [938.23786125]\n",
      "Mean squared error: 2548.07\n",
      "Coefficient of determination: 0.47\n"
     ]
    },
    {
     "data": {
      "image/png": "[encoded data removed]",
      "text/plain": [
       "<Figure size 432x288 with 1 Axes>"
      ]
     },
     "metadata": {},
     "output_type": "display_data"
    }
   ],
   "source": [
    "# Load the dataset\n",
    "ts_data = read_csv('dataHistorian.csv')\n",
    "\n",
    "# Create linear regression object\n",
    "regr = sk.LinearRegression()\n",
    "\n",
    "# Train the model using the training sets\n",
    "#regr.fit()\n",
    "\n"
   ]
  }
 ],
 "metadata": {
  "kernelspec": {
   "display_name": "Python 3",
   "language": "python",
   "name": "python3"
  },
  "language_info": {
   "codemirror_mode": {
    "name": "ipython",
    "version": 3
   },
   "file_extension": ".py",
   "mimetype": "text/x-python",
   "name": "python",
   "nbconvert_exporter": "python",
   "pygments_lexer": "ipython3",
   "version": "3.9.1"
  }
 },
 "nbformat": 4,
 "nbformat_minor": 5
}
