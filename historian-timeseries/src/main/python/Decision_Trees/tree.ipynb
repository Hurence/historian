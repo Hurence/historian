{
 "cells": [
  {
   "cell_type": "code",
   "execution_count": 1,
   "id": "5f1106f5-eeb6-4152-8fdc-2d7d8c140856",
   "metadata": {},
   "outputs": [],
   "source": [
    "import time\n",
    "import math\n",
    "import numpy as np\n",
    "import datetime\n",
    "import matplotlib.pyplot as plt\n",
    "import pandas as pd\n",
    "from sklearn import model_selection\n",
    "from sklearn.tree import DecisionTreeRegressor\n",
    "from sklearn.ensemble import RandomForestRegressor\n",
    "from sklearn.metrics import r2_score, mean_squared_error"
   ]
  },
  {
   "cell_type": "code",
   "execution_count": 2,
   "id": "0cbca075-ff57-410b-a212-1260b9949797",
   "metadata": {},
   "outputs": [
    {
     "data": {
      "text/html": [
       "<div>\n",
       "<style scoped>\n",
       "    .dataframe tbody tr th:only-of-type {\n",
       "        vertical-align: middle;\n",
       "    }\n",
       "\n",
       "    .dataframe tbody tr th {\n",
       "        vertical-align: top;\n",
       "    }\n",
       "\n",
       "    .dataframe thead th {\n",
       "        text-align: right;\n",
       "    }\n",
       "</style>\n",
       "<table border=\"1\" class=\"dataframe\">\n",
       "  <thead>\n",
       "    <tr style=\"text-align: right;\">\n",
       "      <th></th>\n",
       "      <th>timestamp</th>\n",
       "      <th>value</th>\n",
       "    </tr>\n",
       "  </thead>\n",
       "  <tbody>\n",
       "    <tr>\n",
       "      <th>1699</th>\n",
       "      <td>2019-11-25 01:00:18</td>\n",
       "      <td>3.750</td>\n",
       "    </tr>\n",
       "    <tr>\n",
       "      <th>1698</th>\n",
       "      <td>2019-11-25 01:05:18</td>\n",
       "      <td>14.625</td>\n",
       "    </tr>\n",
       "    <tr>\n",
       "      <th>1697</th>\n",
       "      <td>2019-11-25 01:10:18</td>\n",
       "      <td>15.125</td>\n",
       "    </tr>\n",
       "    <tr>\n",
       "      <th>1696</th>\n",
       "      <td>2019-11-25 01:15:18</td>\n",
       "      <td>17.125</td>\n",
       "    </tr>\n",
       "    <tr>\n",
       "      <th>1695</th>\n",
       "      <td>2019-11-25 01:20:18</td>\n",
       "      <td>16.250</td>\n",
       "    </tr>\n",
       "  </tbody>\n",
       "</table>\n",
       "</div>"
      ],
      "text/plain": [
       "               timestamp   value\n",
       "1699 2019-11-25 01:00:18   3.750\n",
       "1698 2019-11-25 01:05:18  14.625\n",
       "1697 2019-11-25 01:10:18  15.125\n",
       "1696 2019-11-25 01:15:18  17.125\n",
       "1695 2019-11-25 01:20:18  16.250"
      ]
     },
     "execution_count": 2,
     "metadata": {},
     "output_type": "execute_result"
    }
   ],
   "source": [
    "dataframe = pd.read_csv('../data/metric_date.csv')\n",
    "dataframe = dataframe.iloc[:,0:4]\n",
    "indexNames = dataframe[ dataframe['metric_id'] == dataframe.iloc[0,0] ].index\n",
    "dataframe = dataframe.iloc[indexNames].sort_values(by='timestamp', ascending=True).loc[:,['timestamp', 'value']]\n",
    "dataframe['timestamp'] = pd.to_datetime(dataframe['timestamp'])\n",
    "dataframe.head()"
   ]
  },
  {
   "cell_type": "code",
   "execution_count": 3,
   "id": "fbdf0f2e-5a92-4f23-9296-a328b52da700",
   "metadata": {},
   "outputs": [],
   "source": [
    "training_limite = int(0.66*dataframe.shape[0])\n",
    "training = dataframe.iloc[:training_limite]\n",
    "validating = dataframe.iloc[training_limite:]\n",
    "\n",
    "# Split the outcome values from the input dataset\n",
    "x_train = training['timestamp'].to_numpy().reshape(-1, 1)\n",
    "y_train = training['value']\n",
    "x_valid = validating['timestamp'].to_numpy().reshape(-1, 1)\n",
    "y_valid = validating['value']"
   ]
  },
  {
   "cell_type": "code",
   "execution_count": 4,
   "id": "c57c3335-c427-4dac-ac2d-f69a1efe1cee",
   "metadata": {},
   "outputs": [],
   "source": [
    "dtree = DecisionTreeRegressor(min_samples_leaf=0.02, random_state=3)\n",
    "dtree.fit(x_train, y_train)\n",
    "\n",
    "pred_train= dtree.predict(x_train)\n",
    "pred_valid= dtree.predict(x_valid)"
   ]
  },
  {
   "cell_type": "code",
   "execution_count": 5,
   "id": "696e2958-c257-4fda-be83-3a069b486e40",
   "metadata": {},
   "outputs": [
    {
     "data": {
      "text/plain": [
       "<function matplotlib.pyplot.show(close=None, block=None)>"
      ]
     },
     "execution_count": 5,
     "metadata": {},
     "output_type": "execute_result"
    },
    {
     "data": {
      "image/png": "[encoded data removed]",
      "text/plain": [
       "<Figure size 432x288 with 1 Axes>"
      ]
     },
     "metadata": {
      "needs_background": "light"
     },
     "output_type": "display_data"
    }
   ],
   "source": [
    "# indx = keys_id[i]\n",
    "fig, ax = plt.subplots()\n",
    "# shift train predictions for plotting\n",
    "trainPlot = np.empty_like(dataframe['value'].to_numpy().reshape(-1,1))\n",
    "trainPlot[:, :] = np.nan\n",
    "trainPlot[:len(x_train), :] = pred_train.reshape(-1,1)\n",
    "# shift test predictions for plotting\n",
    "validPlot = np.empty_like(dataframe['value'].to_numpy().reshape(-1,1))\n",
    "validPlot[:, :] = np.nan\n",
    "validPlot[len(x_train):len(dataframe['value'].to_numpy()), :] = pred_valid.reshape(-1,1)\n",
    "# plot baseline and predictions\n",
    "# ax.set_xlabel(str(i))\n",
    "ax.plot(dataframe['value'].to_numpy().reshape(-1,1))\n",
    "ax.plot(trainPlot, linewidth=3)\n",
    "ax.plot(validPlot, linewidth=3)\n",
    "plt.show"
   ]
  }
 ],
 "metadata": {
  "kernelspec": {
   "display_name": "Python 3",
   "language": "python",
   "name": "python3"
  },
  "language_info": {
   "codemirror_mode": {
    "name": "ipython",
    "version": 3
   },
   "file_extension": ".py",
   "mimetype": "text/x-python",
   "name": "python",
   "nbconvert_exporter": "python",
   "pygments_lexer": "ipython3",
   "version": "3.9.1"
  }
 },
 "nbformat": 4,
 "nbformat_minor": 5
}
