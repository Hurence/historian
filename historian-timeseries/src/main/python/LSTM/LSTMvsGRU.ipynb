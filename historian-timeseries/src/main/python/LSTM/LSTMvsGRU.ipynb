{
 "cells": [
  {
   "cell_type": "code",
   "execution_count": 1,
   "id": "70a12ba0-d647-4dd5-8d18-7d99c32fd5e0",
   "metadata": {},
   "outputs": [],
   "source": [
    "import numpy as np\n",
    "import matplotlib.pyplot as plt\n",
    "from pandas import read_csv"
   ]
  },
  {
   "cell_type": "code",
   "execution_count": 2,
   "id": "a2a1c25d-380f-499b-ba30-4a382be2c253",
   "metadata": {},
   "outputs": [],
   "source": [
    "lstm = read_csv('LSTM.csv')\n",
    "gru = read_csv('../GRU/GRU.csv')"
   ]
  },
  {
   "cell_type": "code",
   "execution_count": 3,
   "id": "c280a061-1098-4d76-90db-88f523c0abdf",
   "metadata": {},
   "outputs": [
    {
     "name": "stdout",
     "output_type": "stream",
     "text": [
      "temps d'inference moyen lstm : 0.05803985822768442\n",
      "temps d'inference moyen gru  : 0.05727444092432661\n",
      "temps d'entrainement moyen lstm : 162.45651213990317      \n",
      "temps d'entrainement moyen gru  : 163.75255628994535\n",
      "Erreur moyenne lstm : 7310.815078957688\n",
      "Erreur moyenne gru  : 8475.442821131575\n"
     ]
    }
   ],
   "source": [
    "inf_lstm, train_lstm, error_lstm = 0, 0, 0\n",
    "inf_gru, train_gru, error_gru = 0, 0, 0\n",
    "k = lstm.shape[0]\n",
    "for i in range(1, k):\n",
    "    inf_lstm += lstm.loc[i,'inference_time']\n",
    "    train_lstm += lstm.loc[i,'training_time']\n",
    "    error_lstm += lstm.loc[i,'mean_squarred_error']\n",
    "    inf_gru += gru.loc[i,'inference_time']\n",
    "    train_gru += gru.loc[i,'training_time']\n",
    "    error_gru += gru.loc[i,'mean_squarred_error']\n",
    "k -= 1\n",
    "print(\"temps d'inference moyen lstm : {}\\ntemps d'inference moyen gru  : {}\\ntemps d'entrainement moyen lstm : {}\\\n",
    "      \\ntemps d'entrainement moyen gru  : {}\\nErreur moyenne lstm : {}\\nErreur moyenne gru  : {}\".format(inf_lstm/k, inf_gru/k, train_lstm/k, train_gru/k, error_lstm/k, error_gru/k))"
   ]
  }
 ],
 "metadata": {
  "kernelspec": {
   "display_name": "Python 3",
   "language": "python",
   "name": "python3"
  },
  "language_info": {
   "codemirror_mode": {
    "name": "ipython",
    "version": 3
   },
   "file_extension": ".py",
   "mimetype": "text/x-python",
   "name": "python",
   "nbconvert_exporter": "python",
   "pygments_lexer": "ipython3",
   "version": "3.9.1"
  }
 },
 "nbformat": 4,
 "nbformat_minor": 5
}
