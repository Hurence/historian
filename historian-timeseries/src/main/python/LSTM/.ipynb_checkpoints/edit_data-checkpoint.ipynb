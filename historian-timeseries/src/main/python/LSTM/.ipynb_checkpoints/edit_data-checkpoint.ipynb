{
 "cells": [
  {
   "cell_type": "code",
   "execution_count": 1,
   "id": "3cffb565-3748-4298-b31d-b4c4a112b0dd",
   "metadata": {},
   "outputs": [],
   "source": [
    "import pandas as pd"
   ]
  },
  {
   "cell_type": "code",
   "execution_count": 2,
   "id": "fa4fb3bf-f98e-4176-b419-f845db7df17f",
   "metadata": {},
   "outputs": [],
   "source": [
    "dataset = pd.read_csv('LSTM_name.csv').to_dict()"
   ]
  },
  {
   "cell_type": "code",
   "execution_count": 3,
   "id": "694beed0-2a84-4557-8c8d-d47b742dd21f",
   "metadata": {},
   "outputs": [],
   "source": [
    "datadic = {'metric_name':{}, 'metric_id':{}, 'mean_squared_error':{}, 'training_time':{}, 'inference_time':{}}\n",
    "keys = list(dataset.keys())\n",
    "i = 0\n",
    "for key in keys[1:]:\n",
    "    datadic['metric_name'][i] = dataset[key][0]\n",
    "    datadic['metric_id'][i] = key\n",
    "    datadic['mean_squared_error'][i] = dataset[key][1]\n",
    "    datadic['training_time'][i] = dataset[key][2]\n",
    "    datadic['inference_time'][i] = dataset[key][3]\n",
    "    i+=1"
   ]
  },
  {
   "cell_type": "code",
   "execution_count": 4,
   "id": "1a9ff6fa-19ad-497a-bd71-3e31055dcd74",
   "metadata": {},
   "outputs": [],
   "source": [
    "pd.DataFrame(datadic).to_csv('LSTM_bis.csv', encoding='utf-8')"
   ]
  }
 ],
 "metadata": {
  "kernelspec": {
   "display_name": "Python 3",
   "language": "python",
   "name": "python3"
  },
  "language_info": {
   "codemirror_mode": {
    "name": "ipython",
    "version": 3
   },
   "file_extension": ".py",
   "mimetype": "text/x-python",
   "name": "python",
   "nbconvert_exporter": "python",
   "pygments_lexer": "ipython3",
   "version": "3.9.1"
  }
 },
 "nbformat": 4,
 "nbformat_minor": 5
}
