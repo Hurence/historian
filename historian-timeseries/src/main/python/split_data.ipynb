{
 "cells": [
  {
   "cell_type": "code",
   "execution_count": 1,
   "id": "9e494f2d-e89a-49b0-a611-ed13b850a0f1",
   "metadata": {},
   "outputs": [],
   "source": [
    "import pandas as pd\n",
    "ts_data = pd.read_csv('data/it-data-4metrics.csv', sep=',')\n",
    "# Delete the useless columns\n",
    "ts_data = ts_data.iloc[:,0:4]\n",
    "# Creation of the dictionnary of all the metric_name in association with their metric_id\n",
    "dic_name = {}\n",
    "dic_id = {}\n",
    "for indx in ts_data.index:\n",
    "    if ts_data['metric_name'][indx] not in dic_name.keys():\n",
    "        dic_name[ts_data['metric_name'][indx]] = []\n",
    "    if ts_data['metric_id'][indx] not in dic_name[ts_data['metric_name'][indx]]:\n",
    "        dic_name[ts_data['metric_name'][indx]].append(ts_data['metric_id'][indx])\n",
    "        dic_id[ts_data['metric_id'][indx]] = [ts_data['metric_name'][indx]]\n",
    "keys_name = list(dic_name.keys())\n",
    "keys_id = list(dic_id.keys())"
   ]
  },
  {
   "cell_type": "code",
   "execution_count": 2,
   "id": "00c28329-973e-453a-b175-a2dd4edff6af",
   "metadata": {},
   "outputs": [],
   "source": [
    "for i in range(len(keys_id)):\n",
    "    indx = keys_id[i]\n",
    "    indexNames = ts_data[ ts_data['metric_id'] == indx ].index\n",
    "    data = ts_data.iloc[indexNames].sort_values(by='timestamp', ascending=True).loc[:,['timestamp','value']]\n",
    "    name = ts_data.loc[indexNames,['metric_id']].values\n",
    "\n",
    "    data.to_csv('../../test/resources/data/split_data/{}.csv'.format(name[0][0]), encoding='utf-8', index=False)"
   ]
  },
  {
   "cell_type": "code",
   "execution_count": null,
   "id": "95a9ef1b-f554-4463-aab2-5aa5edd208a2",
   "metadata": {},
   "outputs": [],
   "source": []
  }
 ],
 "metadata": {
  "kernelspec": {
   "display_name": "Python 3",
   "language": "python",
   "name": "python3"
  },
  "language_info": {
   "codemirror_mode": {
    "name": "ipython",
    "version": 3
   },
   "file_extension": ".py",
   "mimetype": "text/x-python",
   "name": "python",
   "nbconvert_exporter": "python",
   "pygments_lexer": "ipython3",
   "version": "3.9.1"
  }
 },
 "nbformat": 4,
 "nbformat_minor": 5
}
